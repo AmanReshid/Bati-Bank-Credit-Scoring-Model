{
 "cells": [
  {
   "cell_type": "markdown",
   "metadata": {},
   "source": [
    "# Task 3 - Default Estimator and WoE Binning\n",
    "\n",
    "This notebook is dedicated to the development of a credit scoring model through the construction of a default estimator and the application of Weight of Evidence (WoE) binning. The aim is to classify users into high-risk (bad) and low-risk (good) categories based on their likelihood of defaulting on credit, utilizing the RFMS (Recency, Frequency, Monetary value, Stability) formalism.\n",
    "\n",
    "## Key Sections:\n",
    "\n",
    "### 1. Default Estimator Construction\n",
    "   - In this section, we analyze transaction behavior in the RFMS space to segment users. Visualization techniques are employed to establish boundaries and define a proxy for default, classifying users based on their RFMS scores.\n",
    "\n",
    "### 2. Risk Classification\n",
    "   - Users are labeled as high-risk (bad) or low-risk (good) using the default estimator built earlier. This classification helps in assigning risk profiles, which form the foundation of the credit scoring model.\n",
    "\n",
    "### 3. Weight of Evidence (WoE) Binning\n",
    "   - WoE binning is applied to transform both categorical and continuous features. This improves feature interpretability and enhances model performance by calculating WoE values for different feature bins.\n",
    "\n",
    "---\n",
    "\n",
    "This notebook guides you through the construction of a default estimator and the use of WoE binning to refine and optimize the credit scoring model. By following best practices in credit risk modeling, it ensures that the model is interpretable, reliable, and aligned with financial risk management standards.\n"
   ]
  },
  {
   "cell_type": "markdown",
   "metadata": {},
   "source": [
    "# Importing Libraries"
   ]
  },
  {
   "cell_type": "code",
   "execution_count": 1,
   "metadata": {},
   "outputs": [],
   "source": [
    "import pandas as pd\n",
    "import sys\n",
    "import os\n",
    "sys.path.append(os.path.abspath(os.path.join(os.getcwd(), '../scripts')))"
   ]
  },
  {
   "cell_type": "code",
   "execution_count": 2,
   "metadata": {},
   "outputs": [],
   "source": [
    "from RFMS_score_WoE_binning import *\n",
    "from plottings import *"
   ]
  },
  {
   "cell_type": "markdown",
   "metadata": {},
   "source": [
    "* Loading the data"
   ]
  },
  {
   "cell_type": "code",
   "execution_count": 3,
   "metadata": {},
   "outputs": [],
   "source": [
    "df = pd.read_csv('../data/processed_data.csv')"
   ]
  },
  {
   "cell_type": "code",
   "execution_count": 4,
   "metadata": {},
   "outputs": [
    {
     "data": {
      "text/html": [
       "<div>\n",
       "<style scoped>\n",
       "    .dataframe tbody tr th:only-of-type {\n",
       "        vertical-align: middle;\n",
       "    }\n",
       "\n",
       "    .dataframe tbody tr th {\n",
       "        vertical-align: top;\n",
       "    }\n",
       "\n",
       "    .dataframe thead th {\n",
       "        text-align: right;\n",
       "    }\n",
       "</style>\n",
       "<table border=\"1\" class=\"dataframe\">\n",
       "  <thead>\n",
       "    <tr style=\"text-align: right;\">\n",
       "      <th></th>\n",
       "      <th>index</th>\n",
       "      <th>CustomerId</th>\n",
       "      <th>Amount</th>\n",
       "      <th>PricingStrategy</th>\n",
       "      <th>FraudResult</th>\n",
       "      <th>TotalTransactionAmount</th>\n",
       "      <th>AverageTransactionAmount</th>\n",
       "      <th>TotalTransactions</th>\n",
       "      <th>StdTransactionAmount</th>\n",
       "      <th>TransactionHour</th>\n",
       "      <th>...</th>\n",
       "      <th>ProductCategory_movies</th>\n",
       "      <th>ProductCategory_other</th>\n",
       "      <th>ProductCategory_ticket</th>\n",
       "      <th>ProductCategory_transport</th>\n",
       "      <th>ProductCategory_tv</th>\n",
       "      <th>ProductCategory_utility_bill</th>\n",
       "      <th>ChannelId_ChannelId_1</th>\n",
       "      <th>ChannelId_ChannelId_2</th>\n",
       "      <th>ChannelId_ChannelId_3</th>\n",
       "      <th>ChannelId_ChannelId_5</th>\n",
       "    </tr>\n",
       "  </thead>\n",
       "  <tbody>\n",
       "    <tr>\n",
       "      <th>0</th>\n",
       "      <td>0</td>\n",
       "      <td>CustomerId_4406</td>\n",
       "      <td>1000.0</td>\n",
       "      <td>2</td>\n",
       "      <td>0</td>\n",
       "      <td>0.557522</td>\n",
       "      <td>0.047184</td>\n",
       "      <td>-0.311831</td>\n",
       "      <td>-0.167524</td>\n",
       "      <td>2</td>\n",
       "      <td>...</td>\n",
       "      <td>0</td>\n",
       "      <td>0</td>\n",
       "      <td>0</td>\n",
       "      <td>0</td>\n",
       "      <td>0</td>\n",
       "      <td>0</td>\n",
       "      <td>0</td>\n",
       "      <td>0</td>\n",
       "      <td>1</td>\n",
       "      <td>0</td>\n",
       "    </tr>\n",
       "    <tr>\n",
       "      <th>1</th>\n",
       "      <td>1</td>\n",
       "      <td>CustomerId_4406</td>\n",
       "      <td>-20.0</td>\n",
       "      <td>2</td>\n",
       "      <td>0</td>\n",
       "      <td>0.557522</td>\n",
       "      <td>0.047184</td>\n",
       "      <td>-0.311831</td>\n",
       "      <td>-0.167524</td>\n",
       "      <td>2</td>\n",
       "      <td>...</td>\n",
       "      <td>0</td>\n",
       "      <td>0</td>\n",
       "      <td>0</td>\n",
       "      <td>0</td>\n",
       "      <td>0</td>\n",
       "      <td>0</td>\n",
       "      <td>0</td>\n",
       "      <td>1</td>\n",
       "      <td>0</td>\n",
       "      <td>0</td>\n",
       "    </tr>\n",
       "    <tr>\n",
       "      <th>2</th>\n",
       "      <td>2</td>\n",
       "      <td>CustomerId_4683</td>\n",
       "      <td>500.0</td>\n",
       "      <td>2</td>\n",
       "      <td>0</td>\n",
       "      <td>0.556944</td>\n",
       "      <td>0.047137</td>\n",
       "      <td>-0.444993</td>\n",
       "      <td>-0.201719</td>\n",
       "      <td>2</td>\n",
       "      <td>...</td>\n",
       "      <td>0</td>\n",
       "      <td>0</td>\n",
       "      <td>0</td>\n",
       "      <td>0</td>\n",
       "      <td>0</td>\n",
       "      <td>0</td>\n",
       "      <td>0</td>\n",
       "      <td>0</td>\n",
       "      <td>1</td>\n",
       "      <td>0</td>\n",
       "    </tr>\n",
       "    <tr>\n",
       "      <th>3</th>\n",
       "      <td>3</td>\n",
       "      <td>CustomerId_988</td>\n",
       "      <td>20000.0</td>\n",
       "      <td>2</td>\n",
       "      <td>0</td>\n",
       "      <td>0.558153</td>\n",
       "      <td>0.047749</td>\n",
       "      <td>-0.404020</td>\n",
       "      <td>-0.008737</td>\n",
       "      <td>3</td>\n",
       "      <td>...</td>\n",
       "      <td>0</td>\n",
       "      <td>0</td>\n",
       "      <td>0</td>\n",
       "      <td>0</td>\n",
       "      <td>0</td>\n",
       "      <td>1</td>\n",
       "      <td>0</td>\n",
       "      <td>0</td>\n",
       "      <td>1</td>\n",
       "      <td>0</td>\n",
       "    </tr>\n",
       "    <tr>\n",
       "      <th>4</th>\n",
       "      <td>4</td>\n",
       "      <td>CustomerId_988</td>\n",
       "      <td>-644.0</td>\n",
       "      <td>2</td>\n",
       "      <td>0</td>\n",
       "      <td>0.558153</td>\n",
       "      <td>0.047749</td>\n",
       "      <td>-0.404020</td>\n",
       "      <td>-0.008737</td>\n",
       "      <td>3</td>\n",
       "      <td>...</td>\n",
       "      <td>0</td>\n",
       "      <td>0</td>\n",
       "      <td>0</td>\n",
       "      <td>0</td>\n",
       "      <td>0</td>\n",
       "      <td>0</td>\n",
       "      <td>0</td>\n",
       "      <td>1</td>\n",
       "      <td>0</td>\n",
       "      <td>0</td>\n",
       "    </tr>\n",
       "  </tbody>\n",
       "</table>\n",
       "<p>5 rows × 26 columns</p>\n",
       "</div>"
      ],
      "text/plain": [
       "   index       CustomerId   Amount  PricingStrategy  FraudResult  \\\n",
       "0      0  CustomerId_4406   1000.0                2            0   \n",
       "1      1  CustomerId_4406    -20.0                2            0   \n",
       "2      2  CustomerId_4683    500.0                2            0   \n",
       "3      3   CustomerId_988  20000.0                2            0   \n",
       "4      4   CustomerId_988   -644.0                2            0   \n",
       "\n",
       "   TotalTransactionAmount  AverageTransactionAmount  TotalTransactions  \\\n",
       "0                0.557522                  0.047184          -0.311831   \n",
       "1                0.557522                  0.047184          -0.311831   \n",
       "2                0.556944                  0.047137          -0.444993   \n",
       "3                0.558153                  0.047749          -0.404020   \n",
       "4                0.558153                  0.047749          -0.404020   \n",
       "\n",
       "   StdTransactionAmount  TransactionHour  ...  ProductCategory_movies  \\\n",
       "0             -0.167524                2  ...                       0   \n",
       "1             -0.167524                2  ...                       0   \n",
       "2             -0.201719                2  ...                       0   \n",
       "3             -0.008737                3  ...                       0   \n",
       "4             -0.008737                3  ...                       0   \n",
       "\n",
       "   ProductCategory_other  ProductCategory_ticket  ProductCategory_transport  \\\n",
       "0                      0                       0                          0   \n",
       "1                      0                       0                          0   \n",
       "2                      0                       0                          0   \n",
       "3                      0                       0                          0   \n",
       "4                      0                       0                          0   \n",
       "\n",
       "   ProductCategory_tv  ProductCategory_utility_bill  ChannelId_ChannelId_1  \\\n",
       "0                   0                             0                      0   \n",
       "1                   0                             0                      0   \n",
       "2                   0                             0                      0   \n",
       "3                   0                             1                      0   \n",
       "4                   0                             0                      0   \n",
       "\n",
       "   ChannelId_ChannelId_2  ChannelId_ChannelId_3  ChannelId_ChannelId_5  \n",
       "0                      0                      1                      0  \n",
       "1                      1                      0                      0  \n",
       "2                      0                      1                      0  \n",
       "3                      0                      1                      0  \n",
       "4                      1                      0                      0  \n",
       "\n",
       "[5 rows x 26 columns]"
      ]
     },
     "execution_count": 4,
     "metadata": {},
     "output_type": "execute_result"
    }
   ],
   "source": [
    "df.head()"
   ]
  },
  {
   "cell_type": "markdown",
   "metadata": {},
   "source": [
    "Create an instance of the RFMSCalculator"
   ]
  },
  {
   "cell_type": "code",
   "execution_count": 4,
   "metadata": {},
   "outputs": [],
   "source": [
    "rfms_calculator = RFMSCalculator(df)"
   ]
  },
  {
   "cell_type": "markdown",
   "metadata": {},
   "source": [
    "Calculate RFMS scores and get the results"
   ]
  },
  {
   "cell_type": "code",
   "execution_count": 5,
   "metadata": {},
   "outputs": [
    {
     "name": "stdout",
     "output_type": "stream",
     "text": [
      "Starting RFMS calculation\n",
      "Calculating Recency\n",
      "Recency calculation completed\n",
      "Calculating Frequency\n",
      "Frequency calculation completed\n",
      "Calculating Monetary Value\n",
      "Monetary value calculation completed\n",
      "Merged RFMS DataFrame columns: ['CustomerId', 'TotalTransactions', 'AverageTransactionAmount', 'StdTransactionAmount_x', 'TotalTransactionAmount', 'MonetaryAverageTransactionAmount', 'StdTransactionAmount_y']\n",
      "        CustomerId  TotalTransactions  AverageTransactionAmount  \\\n",
      "0     CustomerId_1                  1             -10000.000000   \n",
      "1    CustomerId_10                  1             -10000.000000   \n",
      "2  CustomerId_1001                  5               4000.000000   \n",
      "3  CustomerId_1002                 11                384.090909   \n",
      "4  CustomerId_1003                  6               3333.333333   \n",
      "\n",
      "   StdTransactionAmount_x  TotalTransactionAmount  \\\n",
      "0                     NaN                -10000.0   \n",
      "1                     NaN                -10000.0   \n",
      "2             6558.963333                 20000.0   \n",
      "3              560.498966                  4225.0   \n",
      "4             6030.478146                 20000.0   \n",
      "\n",
      "   MonetaryAverageTransactionAmount  StdTransactionAmount_y  \n",
      "0                     -10000.000000                     NaN  \n",
      "1                     -10000.000000                     NaN  \n",
      "2                       4000.000000             6558.963333  \n",
      "3                        384.090909              560.498966  \n",
      "4                       3333.333333             6030.478146  \n",
      "RFMS Score calculation completed\n",
      "RFMS DataFrame after Score Calculation:\n",
      "        CustomerId    RFMS_Score\n",
      "0     CustomerId_1 -19999.000000\n",
      "1    CustomerId_10 -19999.000000\n",
      "2  CustomerId_1001  24005.000000\n",
      "3  CustomerId_1002   4620.090909\n",
      "4  CustomerId_1003  23339.333333\n"
     ]
    }
   ],
   "source": [
    "df = rfms_calculator.calculate_rfms()"
   ]
  },
  {
   "cell_type": "markdown",
   "metadata": {},
   "source": [
    "# Assign Good/Bad Labels based on RFMS formalism"
   ]
  },
  {
   "cell_type": "markdown",
   "metadata": {},
   "source": [
    "Create an instance of the Labeling class to assign good/bad labels"
   ]
  },
  {
   "cell_type": "code",
   "execution_count": 6,
   "metadata": {},
   "outputs": [],
   "source": [
    "labeler = Labeling(df)\n"
   ]
  },
  {
   "cell_type": "code",
   "execution_count": 7,
   "metadata": {},
   "outputs": [
    {
     "name": "stdout",
     "output_type": "stream",
     "text": [
      "Assigning Good/Bad labels\n",
      "Good/Bad labels assigned\n"
     ]
    }
   ],
   "source": [
    "df_labeled = labeler.assign_good_bad_labels()"
   ]
  },
  {
   "cell_type": "code",
   "execution_count": 12,
   "metadata": {},
   "outputs": [
    {
     "data": {
      "text/plain": [
       "Index(['CustomerId', 'TotalTransactions', 'AverageTransactionAmount',\n",
       "       'StdTransactionAmount_x', 'TotalTransactionAmount',\n",
       "       'MonetaryAverageTransactionAmount', 'StdTransactionAmount_y',\n",
       "       'RFMS_Score', 'RFMS_Label', 'User_Label'],\n",
       "      dtype='object')"
      ]
     },
     "execution_count": 12,
     "metadata": {},
     "output_type": "execute_result"
    }
   ],
   "source": [
    "df.columns"
   ]
  },
  {
   "cell_type": "code",
   "execution_count": 13,
   "metadata": {},
   "outputs": [],
   "source": [
    "# Perform WoE Binning for the 'Monetary' Feature\n",
    "woe_binner = WoEBinning(df_labeled, 'MonetaryAverageTransactionAmount', 'User_Label')\n"
   ]
  },
  {
   "cell_type": "code",
   "execution_count": 23,
   "metadata": {},
   "outputs": [
    {
     "name": "stderr",
     "output_type": "stream",
     "text": [
      "c:\\Users\\a\\Documents\\GitHub\\Bati-Bank-Credit-Scoring-Model\\scripts\\RFMS_score_WoE_binning.py:165: FutureWarning: The default of observed=False is deprecated and will be changed to True in a future version of pandas. Pass observed=False to retain current behavior or observed=True to adopt the future default and silence this warning.\n",
      "  woe_df = self.df.groupby(binned_df)[self.target].value_counts(normalize=False).unstack()\n"
     ]
    }
   ],
   "source": [
    "woe_results = woe_binner.calculate_woe()"
   ]
  },
  {
   "cell_type": "code",
   "execution_count": 15,
   "metadata": {},
   "outputs": [
    {
     "name": "stdout",
     "output_type": "stream",
     "text": [
      "User_Label                        Good_Dist  Bad_Dist       WoE\n",
      "MonetaryAverageTransactionAmount                               \n",
      "(-434026.821, 477682.114]          0.986451       1.0 -0.013641\n",
      "(477682.114, 1380364.229]          0.010943       0.0       inf\n",
      "(1380364.229, 2283046.343]         0.002084       0.0       inf\n",
      "(2283046.343, 3185728.457]         0.000000       0.0       NaN\n",
      "(3185728.457, 4088410.571]         0.000000       0.0       NaN\n",
      "(4088410.571, 4991092.686]         0.000000       0.0       NaN\n",
      "(4991092.686, 5893774.8]           0.000000       0.0       NaN\n",
      "(5893774.8, 6796456.914]           0.000000       0.0       NaN\n",
      "(6796456.914, 7699139.029]         0.000000       0.0       NaN\n",
      "(7699139.029, 8601821.143]         0.000521       0.0       inf\n"
     ]
    }
   ],
   "source": [
    "# Display WoE Binning Results\n",
    "print(woe_results)"
   ]
  },
  {
   "cell_type": "code",
   "execution_count": 24,
   "metadata": {},
   "outputs": [],
   "source": [
    "# Split Data into Train/Test for Validation\n",
    "train_df, test_df = train_test_split(df_labeled, test_size=0.2, random_state=42, stratify=df_labeled['User_Label'])\n"
   ]
  },
  {
   "cell_type": "code",
   "execution_count": 17,
   "metadata": {},
   "outputs": [],
   "source": [
    "# Validate Default Estimator (AUC, ROC)\n",
    "y_train = np.where(train_df['User_Label'] == 'Good', 0, 1)\n",
    "y_test = np.where(test_df['User_Label'] == 'Good', 0, 1)\n",
    "y_train_pred = train_df['RFMS_Label']\n",
    "y_test_pred = test_df['RFMS_Label']"
   ]
  },
  {
   "cell_type": "code",
   "execution_count": 18,
   "metadata": {},
   "outputs": [],
   "source": [
    "auc_train = roc_auc_score(y_train, y_train_pred)\n",
    "auc_test = roc_auc_score(y_test, y_test_pred)"
   ]
  },
  {
   "cell_type": "code",
   "execution_count": 19,
   "metadata": {},
   "outputs": [
    {
     "name": "stdout",
     "output_type": "stream",
     "text": [
      "Train AUC: 1.00\n",
      "Test AUC: 1.00\n"
     ]
    }
   ],
   "source": [
    "print(f\"Train AUC: {auc_train:.2f}\")\n",
    "print(f\"Test AUC: {auc_test:.2f}\")"
   ]
  },
  {
   "cell_type": "code",
   "execution_count": 20,
   "metadata": {},
   "outputs": [
    {
     "name": "stdout",
     "output_type": "stream",
     "text": [
      "              precision    recall  f1-score   support\n",
      "\n",
      "           0       1.00      1.00      1.00       384\n",
      "           1       1.00      1.00      1.00       365\n",
      "\n",
      "    accuracy                           1.00       749\n",
      "   macro avg       1.00      1.00      1.00       749\n",
      "weighted avg       1.00      1.00      1.00       749\n",
      "\n"
     ]
    }
   ],
   "source": [
    "# Generate Classification Report\n",
    "print(classification_report(y_test, y_test_pred))"
   ]
  }
 ],
 "metadata": {
  "kernelspec": {
   "display_name": "venv",
   "language": "python",
   "name": "python3"
  },
  "language_info": {
   "codemirror_mode": {
    "name": "ipython",
    "version": 3
   },
   "file_extension": ".py",
   "mimetype": "text/x-python",
   "name": "python",
   "nbconvert_exporter": "python",
   "pygments_lexer": "ipython3",
   "version": "3.12.5"
  }
 },
 "nbformat": 4,
 "nbformat_minor": 2
}
